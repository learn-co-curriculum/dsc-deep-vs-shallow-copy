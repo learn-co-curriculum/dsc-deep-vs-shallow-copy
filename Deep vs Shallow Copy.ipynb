{
 "cells": [
  {
   "cell_type": "markdown",
   "id": "422c35f6",
   "metadata": {},
   "source": [
    "# Deep vs Shallow Copy of Pandas Dataframe\n",
    "\n",
    "### Introduction\n",
    "\n",
    "While working with Pandas, you may encounter an API call like this: `DataFrame.copy(deep=True)`. The `True` flag makes a copy of the object's indices and data. But why would you just not declare a new variable, and utilize the `copy()` API?\n",
    "\n",
    "First we need to discuss few ways to make copies of Pandas Dataframe.\n",
    "\n",
    "1. Declare a new variable\n",
    "2. Utilize `copy(deep=True)`\n",
    "3. Utilize `copy(deep=False)`\n",
    "\n",
    "The first one is a self-explanatory, and will not be discussed in depth. The second one, using `True` flag will create a new object. The modification on the new object will not reflect the original dataframe. Using the `False` flag will create a new object, and any modifications on the new and the old object will reflect each other."
   ]
  },
  {
   "cell_type": "code",
   "execution_count": null,
   "id": "ea2f14ba",
   "metadata": {},
   "outputs": [],
   "source": [
    "import pandas as pd\n",
    "\n",
    "# Create using deep=True\n"
   ]
  },
  {
   "cell_type": "code",
   "execution_count": null,
   "id": "046b54f5",
   "metadata": {},
   "outputs": [],
   "source": [
    "df = pd.Series([1, 2], index=[\"a\", \"b\"])\n",
    "deep_df = df.copy(deep=True) #or df.copy() works the same \n"
   ]
  },
  {
   "cell_type": "code",
   "execution_count": null,
   "id": "59289d70",
   "metadata": {},
   "outputs": [],
   "source": [
    "shallow_df = df.copy(deep=False)"
   ]
  },
  {
   "cell_type": "markdown",
   "id": "3d099aa4",
   "metadata": {},
   "source": [
    "So why would we use this? What scenario would we want to use either function? The idea is that if you're taking an extra precaution to not modify the original dataframe.\n",
    "\n",
    "Let's try another example."
   ]
  },
  {
   "cell_type": "code",
   "execution_count": null,
   "id": "abd499ea",
   "metadata": {},
   "outputs": [],
   "source": [
    "df = pd.DataFrame({'string_col':['aaa','bbb','ccc'],'integer_col':[1,2,3]})\n",
    "s1 = df['string_col']\n",
    "df"
   ]
  },
  {
   "cell_type": "code",
   "execution_count": null,
   "id": "d1e2e2c6",
   "metadata": {},
   "outputs": [],
   "source": [
    "# now try to modify value in string_col and see the error message\n",
    "s1[0] = 111"
   ]
  },
  {
   "cell_type": "code",
   "execution_count": null,
   "id": "2c589ce7",
   "metadata": {},
   "outputs": [],
   "source": [
    "df"
   ]
  },
  {
   "cell_type": "markdown",
   "id": "a39e3e04",
   "metadata": {},
   "source": [
    "Now, let's try something else. We'll try to modify string_col using loc."
   ]
  },
  {
   "cell_type": "code",
   "execution_count": null,
   "id": "553e2e76",
   "metadata": {},
   "outputs": [],
   "source": [
    "s2 = df.loc[0]\n",
    "s2['string_col'] = 222\n",
    "df"
   ]
  },
  {
   "cell_type": "markdown",
   "id": "1e30156d",
   "metadata": {},
   "source": [
    "What did we observe here? This time, s2 was a copy and did not affect the values in df. We can see now why we want to utilize the `copy()` function to reduce this ambiguity in programming - as a data scientist and a programmer, you have to be explicit and have an intention when you're making copies to the dataset which you will be heavily using it to explore and extract data. Usually during this exploratory analysis step, you could make unintentional changes to the original dataframe without realizing and hence affect the result of your model."
   ]
  },
  {
   "cell_type": "code",
   "execution_count": null,
   "id": "81d3df47",
   "metadata": {},
   "outputs": [],
   "source": []
  }
 ],
 "metadata": {
  "kernelspec": {
   "display_name": "Python 3 (ipykernel)",
   "language": "python",
   "name": "python3"
  },
  "language_info": {
   "codemirror_mode": {
    "name": "ipython",
    "version": 3
   },
   "file_extension": ".py",
   "mimetype": "text/x-python",
   "name": "python",
   "nbconvert_exporter": "python",
   "pygments_lexer": "ipython3",
   "version": "3.9.13"
  }
 },
 "nbformat": 4,
 "nbformat_minor": 5
}
